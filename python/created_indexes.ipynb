{
 "cells": [
  {
   "cell_type": "code",
   "execution_count": null,
   "metadata": {},
   "outputs": [],
   "source": [
    "#This code creates indexes on LAR tables to expedite queries\n",
    "\n"
   ]
  },
  {
   "cell_type": "code",
   "execution_count": 4,
   "metadata": {},
   "outputs": [],
   "source": [
    "from collections import OrderedDict\n",
    "import json\n",
    "import os\n",
    "from os import listdir\n",
    "from os.path import isfile, join\n",
    "import pandas as pd\n",
    "import psycopg2\n",
    "\n",
    "\n"
   ]
  },
  {
   "cell_type": "code",
   "execution_count": 11,
   "metadata": {},
   "outputs": [],
   "source": [
    "def connect():\n",
    "    \"\"\"Creates a connection to a local PG database.\"\"\"\n",
    "    #parameter format for local use\n",
    "    params = {\n",
    "    'dbname':'hmda',\n",
    "    'user':'roellk',\n",
    "    'password':'',\n",
    "    'host':'localhost',}\n",
    "    try:\n",
    "        conn = psycopg2.connect(**params)\n",
    "    except psycopg2.Error as e: #if database connection results in an error print the following\n",
    "        print(\"I am unable to connect to the database: \", e)\n",
    "    return conn.cursor(), conn #returns connection and cursor\n",
    "\n",
    "def create_index(table, column, index_name=\"\"):\n",
    "    \"\"\"Creates an index on the specified table and column\"\"\"\n",
    "    sql = \"\"\"CREATE INDEX {index} ON {table} ({column}); COMMIT;\"\"\".format(index=index_name, table=table, column=column)\n",
    "    cur, conn = connect()\n",
    "    cur.execute(sql,)\n",
    "    conn.close()\n",
    "    \n",
    "def create_multi_index(table, columns, index_name=\"\"):\n",
    "    \"\"\"Creates and index on the specified table and columns. Columns argument is a list\"\"\"\n",
    "    cols = \", \".join(columns)\n",
    "    sql = \"\"\"CREATE INDEX {index} ON {table} ({columns}); COMMIT;\"\"\".format(index=index_name, table=table, columns=cols)\n",
    "    cur, conn = connect()\n",
    "    cur.execute(sql,)\n",
    "    conn.close()"
   ]
  },
  {
   "cell_type": "code",
   "execution_count": 13,
   "metadata": {},
   "outputs": [
    {
     "name": "stdout",
     "output_type": "stream",
     "text": [
      "lar_2004_ffiec\n",
      "lar_2005_ffiec\n",
      "lar_2006_ffiec\n"
     ]
    },
    {
     "ename": "OperationalError",
     "evalue": "could not extend file \"base/16384/491665272\": No space left on device\nHINT:  Check free disk space.\n",
     "output_type": "error",
     "traceback": [
      "\u001b[0;31m---------------------------------------------------------------------------\u001b[0m",
      "\u001b[0;31mOperationalError\u001b[0m                          Traceback (most recent call last)",
      "\u001b[0;32m<ipython-input-13-5122fc32cf8f>\u001b[0m in \u001b[0;36m<module>\u001b[0;34m()\u001b[0m\n\u001b[1;32m      7\u001b[0m     \u001b[0mprint\u001b[0m\u001b[0;34m(\u001b[0m\u001b[0mtable\u001b[0m\u001b[0;34m)\u001b[0m\u001b[0;34m\u001b[0m\u001b[0m\n\u001b[1;32m      8\u001b[0m     \u001b[0;32mfor\u001b[0m \u001b[0midx\u001b[0m \u001b[0;32min\u001b[0m \u001b[0msingle_index_fields\u001b[0m\u001b[0;34m:\u001b[0m\u001b[0;34m\u001b[0m\u001b[0m\n\u001b[0;32m----> 9\u001b[0;31m         \u001b[0mcreate_index\u001b[0m\u001b[0;34m(\u001b[0m\u001b[0mtable\u001b[0m\u001b[0;34m,\u001b[0m \u001b[0midx\u001b[0m\u001b[0;34m)\u001b[0m\u001b[0;34m\u001b[0m\u001b[0m\n\u001b[0m\u001b[1;32m     10\u001b[0m     \u001b[0;31m#create_index(table, \"loan_amount\")\u001b[0m\u001b[0;34m\u001b[0m\u001b[0;34m\u001b[0m\u001b[0m\n\u001b[1;32m     11\u001b[0m     \u001b[0mcreate_multi_index\u001b[0m\u001b[0;34m(\u001b[0m\u001b[0mtable\u001b[0m\u001b[0;34m,\u001b[0m \u001b[0;34m[\u001b[0m\u001b[0;34m\"loan_type\"\u001b[0m\u001b[0;34m,\u001b[0m \u001b[0;34m\"property_type\"\u001b[0m\u001b[0;34m,\u001b[0m \u001b[0;34m\"loan_purpose\"\u001b[0m\u001b[0;34m,\u001b[0m \u001b[0;34m\"action_type\"\u001b[0m\u001b[0;34m,\u001b[0m \u001b[0;34m\"occupancy\"\u001b[0m\u001b[0;34m,\u001b[0m \u001b[0;34m\"lien_status\"\u001b[0m\u001b[0;34m]\u001b[0m\u001b[0;34m)\u001b[0m\u001b[0;34m\u001b[0m\u001b[0m\n",
      "\u001b[0;32m<ipython-input-11-86b7544e4613>\u001b[0m in \u001b[0;36mcreate_index\u001b[0;34m(table, column, index_name)\u001b[0m\n\u001b[1;32m     17\u001b[0m     \u001b[0msql\u001b[0m \u001b[0;34m=\u001b[0m \u001b[0;34m\"\"\"CREATE INDEX {index} ON {table} ({column}); COMMIT;\"\"\"\u001b[0m\u001b[0;34m.\u001b[0m\u001b[0mformat\u001b[0m\u001b[0;34m(\u001b[0m\u001b[0mindex\u001b[0m\u001b[0;34m=\u001b[0m\u001b[0mindex_name\u001b[0m\u001b[0;34m,\u001b[0m \u001b[0mtable\u001b[0m\u001b[0;34m=\u001b[0m\u001b[0mtable\u001b[0m\u001b[0;34m,\u001b[0m \u001b[0mcolumn\u001b[0m\u001b[0;34m=\u001b[0m\u001b[0mcolumn\u001b[0m\u001b[0;34m)\u001b[0m\u001b[0;34m\u001b[0m\u001b[0m\n\u001b[1;32m     18\u001b[0m     \u001b[0mcur\u001b[0m\u001b[0;34m,\u001b[0m \u001b[0mconn\u001b[0m \u001b[0;34m=\u001b[0m \u001b[0mconnect\u001b[0m\u001b[0;34m(\u001b[0m\u001b[0;34m)\u001b[0m\u001b[0;34m\u001b[0m\u001b[0m\n\u001b[0;32m---> 19\u001b[0;31m     \u001b[0mcur\u001b[0m\u001b[0;34m.\u001b[0m\u001b[0mexecute\u001b[0m\u001b[0;34m(\u001b[0m\u001b[0msql\u001b[0m\u001b[0;34m,\u001b[0m\u001b[0;34m)\u001b[0m\u001b[0;34m\u001b[0m\u001b[0m\n\u001b[0m\u001b[1;32m     20\u001b[0m     \u001b[0mconn\u001b[0m\u001b[0;34m.\u001b[0m\u001b[0mclose\u001b[0m\u001b[0;34m(\u001b[0m\u001b[0;34m)\u001b[0m\u001b[0;34m\u001b[0m\u001b[0m\n\u001b[1;32m     21\u001b[0m \u001b[0;34m\u001b[0m\u001b[0m\n",
      "\u001b[0;31mOperationalError\u001b[0m: could not extend file \"base/16384/491665272\": No space left on device\nHINT:  Check free disk space.\n"
     ]
    }
   ],
   "source": [
    "years = list(range(2004,2017))\n",
    "years = [str(x) for x in years]\n",
    "single_index_fields = [\"action_type\", \"app_sex\", \"co_app_sex\", \"income\", \"purchaser_type\", \"property_type\",\"loan_amount\"\n",
    "                      ,\"preapproval\", \"app_ethnicity\", \"co_app_ethnicity\", \"hoepa\", \"lien_status\", \"rate_spread\"]\n",
    "for year in years:\n",
    "    table = \"lar_\" + year + \"_ffiec\"\n",
    "    print(table)\n",
    "    for idx in single_index_fields:\n",
    "        create_index(table, idx)\n",
    "    #create_index(table, \"loan_amount\")\n",
    "    create_multi_index(table, [\"loan_type\", \"property_type\", \"loan_purpose\", \"action_type\", \"occupancy\", \"lien_status\"])\n",
    "    create_multi_index(table, [\"loan_type\", \"property_type\", \"loan_purpose\", \"lien_status\"])\n",
    "    create_multi_index(table, [\"income\", \"loan_amount\"])\n",
    "    create_multi_index(table, [\"app_race_1\", \"app_race_2\", \"app_race_3\", \"app_race_4\", \"app_race_5\", \n",
    "                          \"co_app_race_1\", \"co_app_race_2\", \"co_app_race_3\", \"co_app_race_4\", \"co_app_race_5\"])\n",
    "    create_multi_index(table, [\"app_ethnicity\", \"co_app_ethnicity\"])\n",
    "    "
   ]
  },
  {
   "cell_type": "code",
   "execution_count": null,
   "metadata": {},
   "outputs": [],
   "source": []
  },
  {
   "cell_type": "code",
   "execution_count": null,
   "metadata": {},
   "outputs": [],
   "source": [
    "create_index(\"loan_amount\", \"lar_2004_ffiec\", \"loan_type\")"
   ]
  },
  {
   "cell_type": "code",
   "execution_count": 1,
   "metadata": {},
   "outputs": [],
   "source": [
    "lar_fields = [\"action_type\", \"msa\", \"state_code\", \"county_code\", \"census_tract\", \"app_sex\", \n",
    "       \"co_app_sex\", \"income\", \"purchaser_type\", \"denial_1\", \"denial_2\", \"denial_3\", \n",
    "       \"edit_status\", \"property_type\", \"preapproval\", \"app_ethnicity\", \"co_app_ethnicity\", \n",
    "       \"app_race_1\", \"app_race_2\", \"app_race_3\", \"app_race_4\", \"app_race_5\", \"co_app_race_1\", \n",
    "       \"co_app_race_2\", \"co_app_race_3\", \"co_app_race_4\", \"co_app_race_5\", \"rate_spread\", \n",
    "       \"hoepa\", \"lien_status\"]"
   ]
  },
  {
   "cell_type": "code",
   "execution_count": null,
   "metadata": {},
   "outputs": [],
   "source": []
  }
 ],
 "metadata": {
  "kernelspec": {
   "display_name": "Python 3",
   "language": "python",
   "name": "python3"
  },
  "language_info": {
   "codemirror_mode": {
    "name": "ipython",
    "version": 3
   },
   "file_extension": ".py",
   "mimetype": "text/x-python",
   "name": "python",
   "nbconvert_exporter": "python",
   "pygments_lexer": "ipython3",
   "version": "3.6.2"
  }
 },
 "nbformat": 4,
 "nbformat_minor": 2
}
